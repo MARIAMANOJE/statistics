{
 "cells": [
  {
   "cell_type": "markdown",
   "id": "d5fc9c19",
   "metadata": {},
   "source": [
    "# 1"
   ]
  },
  {
   "cell_type": "code",
   "execution_count": 1,
   "id": "0c51fc98",
   "metadata": {},
   "outputs": [
    {
     "name": "stdout",
     "output_type": "stream",
     "text": [
      "No Diamondcard and one from the set of total cards to draw?13/52\n",
      "No  heartscard and one from the set of total cards to draw?13/51\n",
      "No spadecard and one from the set of total cards to draw?13/50\n",
      "probability value is 0.01656862745098039\n",
      "percentage 1.656862745098039\n"
     ]
    }
   ],
   "source": [
    "J=input(\"No Diamondcard and one from the set of total cards to draw?\")\n",
    "S=input(\"No  heartscard and one from the set of total cards to draw?\")\n",
    "W=input(\"No spadecard and one from the set of total cards to draw?\")\n",
    "P=eval(J)*eval(S)*eval(W)\n",
    "print(\"probability value is\",P)\n",
    "print( \"percentage\",P*100)"
   ]
  },
  {
   "cell_type": "markdown",
   "id": "b0f795bb",
   "metadata": {},
   "source": [
    "# 2"
   ]
  },
  {
   "cell_type": "code",
   "execution_count": 2,
   "id": "0a444572",
   "metadata": {},
   "outputs": [
    {
     "name": "stdout",
     "output_type": "stream",
     "text": [
      "probability  of action or drama movie 0.78\n",
      "probability  of comdey Horror movie 0.66\n"
     ]
    }
   ],
   "source": [
    "action=42/100\n",
    "comdey=54/100\n",
    "drama=36/100\n",
    "horror=12/100\n",
    "#P(A) =probability  of action or drama movie\n",
    "#P(B)=probability  of comdey Horror movie\n",
    "A=action+drama\n",
    "B=comdey+horror \n",
    "print(\"probability  of action or drama movie\",A)\n",
    "print(\"probability  of comdey Horror movie\",B)"
   ]
  },
  {
   "cell_type": "markdown",
   "id": "d4d4ec78",
   "metadata": {},
   "source": [
    "# 3\n",
    "#### P(A)=3red ball and 5 black ball \n",
    "#### P(B)=4 white ball and 7 black ball \n",
    "#### P(A)=P(B)=1/2\n",
    "#### p(B/A) 5/8(probability of black ball in bag A)\n",
    "#### p(B/B) 7/11(probability of black ball in bag B)\n",
    "#### =P(B)*P(B/B)/P(A)*P(B/A)+P(B)(P(B/A)\n",
    "#### =1/2)*(7/11/(1/2)*(5/8)+(1/2)(7/11)\n",
    "#### (7/11)/(5/8)+(7/11)\n",
    "#### (7/11]/(111/88)\n",
    "#### (7/11)*(88/111)\n",
    "#### (56/111)\n",
    "#### ans = 0.5045\n"
   ]
  },
  {
   "cell_type": "markdown",
   "id": "09bb4ed4",
   "metadata": {},
   "source": [
    "# 4 \n",
    "\n",
    "##### a) 10 application in 1\n",
    "##### λ= 450/100\n",
    "##### λ=15/2,x=10\n",
    "   ##### e**(-15/2).(15/2)**10\n",
    "   ##### ----------------------------\n",
    "      10 !\n",
    "  #####      ans= 0.0858\n",
    "   \n",
    "##### B) 17 application in 2 min   \n",
    "##### 3 e**(-15/2).(15/2)**17\n",
    "   #####  ----------------------------\n",
    "      17 !\n",
    "   #####         ans=      0.6321"
   ]
  },
  {
   "cell_type": "markdown",
   "id": "7cfa979c",
   "metadata": {},
   "source": []
  },
  {
   "cell_type": "code",
   "execution_count": null,
   "id": "e7eeb887",
   "metadata": {},
   "outputs": [],
   "source": []
  },
  {
   "cell_type": "markdown",
   "id": "8173624b",
   "metadata": {},
   "source": [
    "# 6\n",
    "###### z=(x-μ)\n",
    "###### 0.675=(x-350870)/12405\n",
    "###### x=350870+(0.675*12405)\n",
    "###### x=359237.045\n",
    "###### 75 percentile =359237.045"
   ]
  },
  {
   "cell_type": "code",
   "execution_count": null,
   "id": "b6a90e89",
   "metadata": {},
   "outputs": [],
   "source": []
  },
  {
   "cell_type": "code",
   "execution_count": null,
   "id": "d634cd9c",
   "metadata": {},
   "outputs": [],
   "source": []
  },
  {
   "cell_type": "markdown",
   "id": "bce49d54",
   "metadata": {},
   "source": [
    "# 9"
   ]
  },
  {
   "cell_type": "code",
   "execution_count": 3,
   "id": "b61db9f2",
   "metadata": {},
   "outputs": [
    {
     "name": "stdout",
     "output_type": "stream",
     "text": [
      "0.040177141568228006\n"
     ]
    }
   ],
   "source": [
    "from scipy.stats import poisson\n",
    "prob=poisson.pmf(k=80,mu=76)\n",
    "print(prob)"
   ]
  },
  {
   "cell_type": "markdown",
   "id": "d4b40b21",
   "metadata": {},
   "source": [
    "### 10\n",
    "### μ ≥ 82\n",
    "### n=25\n",
    "### x̄=95\n",
    "### σ=20\n",
    "### α=0.05\n",
    "### z = 3.25"
   ]
  },
  {
   "cell_type": "code",
   "execution_count": null,
   "id": "d5ba2c6c",
   "metadata": {},
   "outputs": [],
   "source": []
  }
 ],
 "metadata": {
  "kernelspec": {
   "display_name": "Python 3 (ipykernel)",
   "language": "python",
   "name": "python3"
  },
  "language_info": {
   "codemirror_mode": {
    "name": "ipython",
    "version": 3
   },
   "file_extension": ".py",
   "mimetype": "text/x-python",
   "name": "python",
   "nbconvert_exporter": "python",
   "pygments_lexer": "ipython3",
   "version": "3.9.7"
  }
 },
 "nbformat": 4,
 "nbformat_minor": 5
}
