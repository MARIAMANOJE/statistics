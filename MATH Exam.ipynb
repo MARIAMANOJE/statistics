{
 "cells": [
  {
   "cell_type": "markdown",
   "id": "d5fc9c19",
   "metadata": {},
   "source": [
    "# 1"
   ]
  },
  {
   "cell_type": "code",
   "execution_count": 1,
   "id": "0c51fc98",
   "metadata": {},
   "outputs": [
    {
     "name": "stdout",
     "output_type": "stream",
     "text": [
      "No Diamondcard and one from the set of total cards to draw?13/52\n",
      "No  heartscard and one from the set of total cards to draw?13/51\n",
      "No spadecard and one from the set of total cards to draw?13/50\n",
      "probability value is 0.01656862745098039\n",
      "percentage 1.656862745098039\n"
     ]
    }
   ],
   "source": [
    "J=input(\"No Diamondcard and one from the set of total cards to draw?\")\n",
    "S=input(\"No  heartscard and one from the set of total cards to draw?\")\n",
    "W=input(\"No spadecard and one from the set of total cards to draw?\")\n",
    "P=eval(J)*eval(S)*eval(W)\n",
    "print(\"probability value is\",P)\n",
    "print( \"percentage\",P*100)"
   ]
  },
  {
   "cell_type": "markdown",
   "id": "b0f795bb",
   "metadata": {},
   "source": [
    "# 2"
   ]
  },
  {
   "cell_type": "code",
   "execution_count": 2,
   "id": "0a444572",
   "metadata": {},
   "outputs": [
    {
     "name": "stdout",
     "output_type": "stream",
     "text": [
      "probability  of action or drama movie 0.78\n",
      "probability  of comdey Horror movie 0.66\n"
     ]
    }
   ],
   "source": [
    "action=42/100\n",
    "comdey=54/100\n",
    "drama=36/100\n",
    "horror=12/100\n",
    "#P(A) =probability  of action or drama movie\n",
    "#P(B)=probability  of comdey Horror movie\n",
    "A=action+drama\n",
    "B=comdey+horror \n",
    "print(\"probability  of action or drama movie\",A)\n",
    "print(\"probability  of comdey Horror movie\",B)"
   ]
  },
  {
   "cell_type": "markdown",
   "id": "d4d4ec78",
   "metadata": {},
   "source": [
    "# 3\n",
    "#### P(A)=3red ball and 5 black ball \n",
    "#### P(B)=4 white ball and 7 black ball \n",
    "#### P(A)=P(B)=1/2\n",
    "#### p(B/A) 5/8(probability of black ball in bag A)\n",
    "#### p(B/B) 7/11(probability of black ball in bag B)\n",
    "#### =P(B)*P(B/B)/P(A)*P(B/A)+P(B)(P(B/A)\n",
    "#### =1/2)*(7/11/(1/2)*(5/8)+(1/2)(7/11)\n",
    "#### (7/11)/(5/8)+(7/11)\n",
    "#### (7/11]/(111/88)\n",
    "#### (7/11)*(88/111)\n",
    "#### (56/111)\n",
    "#### ans = 0.5045\n"
   ]
  },
  {
   "cell_type": "markdown",
   "id": "09bb4ed4",
   "metadata": {},
   "source": [
    "# 4 \n",
    "\n",
    "##### a) 10 application in 1\n",
    "##### λ= 450/100\n",
    "##### λ=15/2,x=10\n",
    "   ##### e**(-15/2).(15/2)**10\n",
    "   ##### ----------------------------\n",
    "      10 !\n",
    "  #####      ans= 0.0858\n",
    "   \n",
    "##### B) 17 application in 2 min   \n",
    "##### 3 e**(-15/2).(15/2)**17\n",
    "   #####  ----------------------------\n",
    "      17 !\n",
    "   #####         ans=      0.6321"
   ]
  },
  {
   "cell_type": "markdown",
   "id": "7cfa979c",
   "metadata": {},
   "source": []
  },
  {
   "cell_type": "code",
   "execution_count": null,
   "id": "e7eeb887",
   "metadata": {},
   "outputs": [],
   "source": []
  },
  {
   "cell_type": "markdown",
   "id": "8173624b",
   "metadata": {},
   "source": [
    "# 6\n",
    "###### z=(x-μ)\n",
    "###### 0.675=(x-350870)/12405\n",
    "###### x=350870+(0.675*12405)\n",
    "###### x=359237.045\n",
    "###### 75 percentile =359237.045"
   ]
  },
  {
   "cell_type": "markdown",
   "id": "3bfb80c6",
   "metadata": {},
   "source": [
    "# 7\n"
   ]
  },
  {
   "cell_type": "code",
   "execution_count": 3,
   "id": "d634cd9c",
   "metadata": {},
   "outputs": [
    {
     "data": {
      "text/plain": [
       "(0.9921235138705414, 0.5051139397884965)"
      ]
     },
     "execution_count": 3,
     "metadata": {},
     "output_type": "execute_result"
    }
   ],
   "source": [
    "x=[44,21,36,34,77,32,29,39,92,67,45,37]\n",
    "y=[47,81,41,79,38,20,33,83,41,40,69,36]\n",
    "import numpy as np\n",
    "import scipy.stats\n",
    "def f_test(x,y):\n",
    "    x = np.array(x)\n",
    "    y = np.array(y)\n",
    "    f = np.var(x, ddof=1)/np.var(y, ddof=1) \n",
    "    dfn = x.size-1 #\n",
    "    dfd = y.size-1 \n",
    "    p = 1-scipy.stats.f.cdf(f, dfn, dfd) \n",
    "    return f, p\n",
    "\n",
    "f_test(x,y)"
   ]
  },
  {
   "cell_type": "markdown",
   "id": "a15f32da",
   "metadata": {},
   "source": [
    "# 8"
   ]
  },
  {
   "cell_type": "code",
   "execution_count": 8,
   "id": "72f7e0d0",
   "metadata": {},
   "outputs": [
    {
     "data": {
      "text/plain": [
       "(1.6944444444444444, 0.3711340206185567)"
      ]
     },
     "execution_count": 8,
     "metadata": {},
     "output_type": "execute_result"
    }
   ],
   "source": [
    "import numpy as np\n",
    "import scipy.stats\n",
    "x=[44.5,42,46.5]\n",
    "y=[5,5,8]\n",
    "def f_test(x,y):\n",
    "    x = np.array(x)\n",
    "    y = np.array(y)\n",
    "    f = np.var(x, ddof=1)/np.var(y, ddof=1) \n",
    "    dfn = x.size-1 #\n",
    "    dfd = y.size-1 \n",
    "    p = 1-scipy.stats.f.cdf(f, dfn, dfd) \n",
    "    return f, p\n",
    "\n",
    "f_test(x,y)"
   ]
  },
  {
   "cell_type": "markdown",
   "id": "bce49d54",
   "metadata": {},
   "source": [
    "# 9"
   ]
  },
  {
   "cell_type": "code",
   "execution_count": 3,
   "id": "b61db9f2",
   "metadata": {},
   "outputs": [
    {
     "name": "stdout",
     "output_type": "stream",
     "text": [
      "0.040177141568228006\n"
     ]
    }
   ],
   "source": [
    "from scipy.stats import poisson\n",
    "prob=poisson.pmf(k=80,mu=76)\n",
    "print(prob)"
   ]
  },
  {
   "cell_type": "markdown",
   "id": "1fec6f3c",
   "metadata": {},
   "source": [
    "# 10"
   ]
  },
  {
   "cell_type": "code",
   "execution_count": 9,
   "id": "d5ba2c6c",
   "metadata": {},
   "outputs": [
    {
     "name": "stdout",
     "output_type": "stream",
     "text": [
      "Yes, protein supplier affect diet\n"
     ]
    }
   ],
   "source": [
    "before = [82 for j in range(25)]\n",
    "after = [95 for i in range(25)]\n",
    "from scipy.stats import ttest_ind\n",
    "\n",
    "if ttest_ind(before,after)[-1] <= 0.05 :\n",
    "    print('Yes, protein supplier affect diet')\n",
    "else:\n",
    "    print('No, protein supplier did not affect diet')"
   ]
  },
  {
   "cell_type": "markdown",
   "id": "15abb50f",
   "metadata": {},
   "source": [
    "# 11"
   ]
  },
  {
   "cell_type": "code",
   "execution_count": 10,
   "id": "a9ee5153",
   "metadata": {},
   "outputs": [
    {
     "name": "stdout",
     "output_type": "stream",
     "text": [
      "Ttest_1sampResult(statistic=0.0, pvalue=1.0)\n",
      "\n",
      "Different days of the week have the different frequency of customers\n"
     ]
    }
   ],
   "source": [
    "no_of_customers = [1419,1320,1526,1289,1620,2067,2055]\n",
    "avg = sum(no_of_customers)/len(no_of_customers)\n",
    "from scipy.stats import ttest_1samp\n",
    "test = ttest_1samp(no_of_customers,avg)\n",
    "print(test)\n",
    "print()\n",
    "if test[-1] <= 0.01 :\n",
    "    print('Different days of the week have the same frequency of customers')\n",
    "else:\n",
    "     print('Different days of the week have the different frequency of customers')"
   ]
  },
  {
   "cell_type": "code",
   "execution_count": null,
   "id": "c5a4d733",
   "metadata": {},
   "outputs": [],
   "source": []
  }
 ],
 "metadata": {
  "kernelspec": {
   "display_name": "Python 3 (ipykernel)",
   "language": "python",
   "name": "python3"
  },
  "language_info": {
   "codemirror_mode": {
    "name": "ipython",
    "version": 3
   },
   "file_extension": ".py",
   "mimetype": "text/x-python",
   "name": "python",
   "nbconvert_exporter": "python",
   "pygments_lexer": "ipython3",
   "version": "3.9.7"
  }
 },
 "nbformat": 4,
 "nbformat_minor": 5
}
